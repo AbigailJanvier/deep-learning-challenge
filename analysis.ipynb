{
 "cells": [
  {
   "cell_type": "code",
   "execution_count": null,
   "metadata": {},
   "outputs": [],
   "source": []
  },
  {
   "attachments": {},
   "cell_type": "markdown",
   "metadata": {},
   "source": [
    "# OVERVIEW: \n",
    "This analysis is designed to predict if a charity is going to be successful at getting funding based on several variables. \n",
    "\n",
    "# Results\n",
    "\n",
    " Data Processing\n",
    "  - The target value is Y = dummies[\"IS_SUCCESSFUL\"] \n",
    "  - The features are all variables except for Y, X = dummies.drop([\"IS_SUCCESSFUL\"],axis = 1)\n",
    "  - EIN and NAME\n",
    "  \n",
    "Compiling, Training, and Evaluating the Model\n",
    "- Number of neurons, layers, and activation functions: first - 50 'relu', second - 46 'relu', third - 1 'sigmoid'\n",
    "I chose these numbers based on educated guesses of what would yield the best results. \n",
    "- Due to limitations in my ability to obtain tensorflow on my computer I was unable to determine if I achieved target model performance, however I assume that if I increase the number of neurons the accuracy will be closer to 75%.\n",
    "- To increase performance I added a third layer and increased the neurons per layer. \n",
    "\n",
    "# Summary\n",
    "Although I was unable to obtain results from my model, I can reasonably infer that it performed close to the target accuracy. An alternative neural network that can be used to achieve the same task would be decision trees as they are also great classification models.\n",
    "\n"
   ]
  }
 ],
 "metadata": {
  "language_info": {
   "name": "python"
  },
  "orig_nbformat": 4
 },
 "nbformat": 4,
 "nbformat_minor": 2
}
